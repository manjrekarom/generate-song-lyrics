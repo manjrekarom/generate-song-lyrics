{
 "cells": [
  {
   "cell_type": "markdown",
   "metadata": {},
   "source": [
    "### Import "
   ]
  },
  {
   "cell_type": "code",
   "execution_count": 1,
   "metadata": {},
   "outputs": [],
   "source": [
    "import numpy as np\n",
    "import pandas as pd\n",
    "import matplotlib.pyplot as plt\n",
    "import tensorflow as tf"
   ]
  },
  {
   "cell_type": "markdown",
   "metadata": {},
   "source": [
    "### Import Dataset"
   ]
  },
  {
   "cell_type": "code",
   "execution_count": 2,
   "metadata": {},
   "outputs": [
    {
     "data": {
      "text/html": [
       "<div>\n",
       "<style scoped>\n",
       "    .dataframe tbody tr th:only-of-type {\n",
       "        vertical-align: middle;\n",
       "    }\n",
       "\n",
       "    .dataframe tbody tr th {\n",
       "        vertical-align: top;\n",
       "    }\n",
       "\n",
       "    .dataframe thead th {\n",
       "        text-align: right;\n",
       "    }\n",
       "</style>\n",
       "<table border=\"1\" class=\"dataframe\">\n",
       "  <thead>\n",
       "    <tr style=\"text-align: right;\">\n",
       "      <th></th>\n",
       "      <th>name</th>\n",
       "      <th>from</th>\n",
       "      <th>href</th>\n",
       "      <th>lyrics</th>\n",
       "    </tr>\n",
       "  </thead>\n",
       "  <tbody>\n",
       "    <tr>\n",
       "      <th>0</th>\n",
       "      <td>Aa Jao Na</td>\n",
       "      <td>[from \"Veere Di Wedding\" soundtrack]</td>\n",
       "      <td>/lyrics/bollywood/aajaona.html</td>\n",
       "      <td>\\n\\r\\nTum thhe yahin\\nPhir bhi tum gum thhe\\nA...</td>\n",
       "    </tr>\n",
       "    <tr>\n",
       "      <th>1</th>\n",
       "      <td>Aaj Phir</td>\n",
       "      <td>[from \"Hate Story 2\" soundtrack]</td>\n",
       "      <td>/lyrics/arijitsingh/aajphir.html</td>\n",
       "      <td>\\n\\r\\nAaj phir tumpe pyar aaya hai\\nAaj phir t...</td>\n",
       "    </tr>\n",
       "    <tr>\n",
       "      <th>2</th>\n",
       "      <td>Aaj Se Teri</td>\n",
       "      <td>[from \"Padman\" soundtrack]</td>\n",
       "      <td>/lyrics/arijitsingh/aajseteri.html</td>\n",
       "      <td>\\n\\r\\nAaj se teri saari galiyan meri ho gayi\\n...</td>\n",
       "    </tr>\n",
       "    <tr>\n",
       "      <th>3</th>\n",
       "      <td>Aasan Nahin Yahan</td>\n",
       "      <td>[from \"Aashiqui 2\" soundtrack]</td>\n",
       "      <td>/lyrics/arijitsingh/aasannahinyahan.html</td>\n",
       "      <td>\\n\\r\\nWo o o o...\\n\\nAasaan nahi yahaan aashiq...</td>\n",
       "    </tr>\n",
       "    <tr>\n",
       "      <th>4</th>\n",
       "      <td>Ab Raat</td>\n",
       "      <td>[from \"Dobaara\" soundtrack]</td>\n",
       "      <td>/lyrics/arijitsingh/abraat.html</td>\n",
       "      <td>\\n\\r\\nChaand ki aankhein bhaari si hain\\nRaat ...</td>\n",
       "    </tr>\n",
       "  </tbody>\n",
       "</table>\n",
       "</div>"
      ],
      "text/plain": [
       "                name                                  from  \\\n",
       "0          Aa Jao Na  [from \"Veere Di Wedding\" soundtrack]   \n",
       "1           Aaj Phir      [from \"Hate Story 2\" soundtrack]   \n",
       "2        Aaj Se Teri            [from \"Padman\" soundtrack]   \n",
       "3  Aasan Nahin Yahan        [from \"Aashiqui 2\" soundtrack]   \n",
       "4            Ab Raat           [from \"Dobaara\" soundtrack]   \n",
       "\n",
       "                                       href  \\\n",
       "0            /lyrics/bollywood/aajaona.html   \n",
       "1          /lyrics/arijitsingh/aajphir.html   \n",
       "2        /lyrics/arijitsingh/aajseteri.html   \n",
       "3  /lyrics/arijitsingh/aasannahinyahan.html   \n",
       "4           /lyrics/arijitsingh/abraat.html   \n",
       "\n",
       "                                              lyrics  \n",
       "0  \\n\\r\\nTum thhe yahin\\nPhir bhi tum gum thhe\\nA...  \n",
       "1  \\n\\r\\nAaj phir tumpe pyar aaya hai\\nAaj phir t...  \n",
       "2  \\n\\r\\nAaj se teri saari galiyan meri ho gayi\\n...  \n",
       "3  \\n\\r\\nWo o o o...\\n\\nAasaan nahi yahaan aashiq...  \n",
       "4  \\n\\r\\nChaand ki aankhein bhaari si hain\\nRaat ...  "
      ]
     },
     "execution_count": 2,
     "metadata": {},
     "output_type": "execute_result"
    }
   ],
   "source": [
    "df = pd.read_csv('data/arijit_songs_with_lyrics.csv')\n",
    "df.head()"
   ]
  },
  {
   "cell_type": "markdown",
   "metadata": {},
   "source": [
    "### Preprocessing Lyrics \n",
    "1. Get all the lyrics into one single string(for simplicity).\n",
    "2. Divide the string into characters. \n",
    "3. Group characters of size given by timesteps together for input.\n",
    "4. Output will be the character just following the input.\n",
    "5. Slide the window of size timestep by number of steps(=1) to make other inputs and outputs."
   ]
  },
  {
   "cell_type": "code",
   "execution_count": 3,
   "metadata": {},
   "outputs": [],
   "source": [
    "# 1. Get all the lyrics into one single string(for simplicity)\n",
    "text = '' # will hold all the text data\n",
    "for idx, row in df['lyrics'].iteritems():\n",
    "    text = text + row"
   ]
  },
  {
   "cell_type": "code",
   "execution_count": 4,
   "metadata": {},
   "outputs": [],
   "source": [
    "lower_text = text.lower()"
   ]
  },
  {
   "cell_type": "code",
   "execution_count": 5,
   "metadata": {},
   "outputs": [
    {
     "data": {
      "text/plain": [
       "['\\n', '\\r', '2', '[', ']', 'a', 'b', 'c', 'd', 'x']"
      ]
     },
     "execution_count": 5,
     "metadata": {},
     "output_type": "execute_result"
    }
   ],
   "source": [
    "# playground code - can be remove\n",
    "str('abc')\n",
    "sorted(list(set('abc\\rd[ax2]b\\n')))"
   ]
  },
  {
   "cell_type": "markdown",
   "metadata": {},
   "source": [
    "#### Convert text to lower case "
   ]
  },
  {
   "cell_type": "code",
   "execution_count": 6,
   "metadata": {},
   "outputs": [
    {
     "data": {
      "text/plain": [
       "80"
      ]
     },
     "execution_count": 6,
     "metadata": {},
     "output_type": "execute_result"
    }
   ],
   "source": [
    "# 2. Divide the string into characters. \n",
    "list_chars = sorted(list(set(text)))\n",
    "len(list_chars)"
   ]
  },
  {
   "cell_type": "code",
   "execution_count": 7,
   "metadata": {},
   "outputs": [
    {
     "data": {
      "text/plain": [
       "Counter({'\\n': 6493,\n",
       "         '\\r': 129,\n",
       "         't': 4250,\n",
       "         'u': 3617,\n",
       "         'm': 3860,\n",
       "         ' ': 19854,\n",
       "         'h': 9034,\n",
       "         'e': 8915,\n",
       "         'y': 2584,\n",
       "         'a': 21016,\n",
       "         'i': 8612,\n",
       "         'n': 6862,\n",
       "         'p': 1359,\n",
       "         'r': 5118,\n",
       "         'b': 2151,\n",
       "         'g': 1448,\n",
       "         'l': 2593,\n",
       "         'j': 2024,\n",
       "         'o': 4723,\n",
       "         's': 3392,\n",
       "         '[': 141,\n",
       "         'x': 140,\n",
       "         '2': 108,\n",
       "         ']': 141,\n",
       "         'd': 3055,\n",
       "         'w': 625,\n",
       "         'k': 3936,\n",
       "         'c': 1000,\n",
       "         '?': 24,\n",
       "         '…': 340,\n",
       "         'v': 294,\n",
       "         'z': 574,\n",
       "         'q': 211,\n",
       "         '-': 164,\n",
       "         'f': 311,\n",
       "         ',': 487,\n",
       "         '.': 1130,\n",
       "         '(': 65,\n",
       "         ')': 65,\n",
       "         '!': 49,\n",
       "         \"'\": 38,\n",
       "         '4': 16,\n",
       "         '3': 7,\n",
       "         '’': 9,\n",
       "         '8': 3,\n",
       "         ':': 7,\n",
       "         'é': 10,\n",
       "         '*': 1,\n",
       "         '‘': 3,\n",
       "         '1': 6,\n",
       "         '6': 2,\n",
       "         '0': 6,\n",
       "         '“': 2,\n",
       "         '”': 2,\n",
       "         '–': 1})"
      ]
     },
     "execution_count": 7,
     "metadata": {},
     "output_type": "execute_result"
    }
   ],
   "source": [
    "import collections\n",
    "chars = collections.Counter(text.lower())\n",
    "chars"
   ]
  },
  {
   "cell_type": "code",
   "execution_count": 8,
   "metadata": {},
   "outputs": [],
   "source": [
    "# 3. Divide the strings into size timesteps size\n",
    "# 4.\n",
    "# 5.\n",
    "timesteps = 20\n",
    "sentences = []\n",
    "outputs = []\n",
    "for i in range(0, len(lower_text)-timesteps):\n",
    "    sentences.append(lower_text[i: i + timesteps])\n",
    "    outputs.append(lower_text[i + timesteps])"
   ]
  },
  {
   "cell_type": "code",
   "execution_count": 12,
   "metadata": {},
   "outputs": [
    {
     "name": "stdout",
     "output_type": "stream",
     "text": [
      "['\\n\\r\\ntum thhe yahin\\nph', '\\r\\ntum thhe yahin\\nphi']\n",
      "130987\n"
     ]
    }
   ],
   "source": [
    "print(sentences[0:2])\n",
    "print(len(sentences))"
   ]
  },
  {
   "cell_type": "code",
   "execution_count": 13,
   "metadata": {},
   "outputs": [
    {
     "data": {
      "text/plain": [
       "['i', 'r']"
      ]
     },
     "execution_count": 13,
     "metadata": {},
     "output_type": "execute_result"
    }
   ],
   "source": [
    "outputs[0:2]"
   ]
  },
  {
   "cell_type": "code",
   "execution_count": 14,
   "metadata": {},
   "outputs": [
    {
     "name": "stderr",
     "output_type": "stream",
     "text": [
      "IOPub data rate exceeded.\n",
      "The notebook server will temporarily stop sending output\n",
      "to the client in order to avoid crashing it.\n",
      "To change this limit, set the config variable\n",
      "`--NotebookApp.iopub_data_rate_limit`.\n",
      "\n",
      "Current values:\n",
      "NotebookApp.iopub_data_rate_limit=1000000.0 (bytes/sec)\n",
      "NotebookApp.rate_limit_window=3.0 (secs)\n",
      "\n"
     ]
    }
   ],
   "source": [
    "# 6. Tokenize array of strings to chars \n",
    "tokenized_sentences = [list(sentence) for sentence in sentences]"
   ]
  },
  {
   "cell_type": "code",
   "execution_count": 16,
   "metadata": {},
   "outputs": [],
   "source": [
    "# 7. Create character-to-index and index-to-character mappings\n",
    "char_index = {char: idx for idx, char in enumerate(list_chars)}\n",
    "index_char = {idx: char for idx, char in enumerate(list_chars)}"
   ]
  },
  {
   "cell_type": "code",
   "execution_count": 20,
   "metadata": {},
   "outputs": [
    {
     "name": "stdout",
     "output_type": "stream",
     "text": [
      "Character to Index: -  {'\\n': 0, '\\r': 1, ' ': 2, '!': 3, \"'\": 4, '(': 5, ')': 6, '*': 7, ',': 8, '-': 9, '.': 10, '0': 11, '1': 12, '2': 13, '3': 14, '4': 15, '6': 16, '8': 17, ':': 18, '?': 19, 'A': 20, 'B': 21, 'C': 22, 'D': 23, 'E': 24, 'F': 25, 'G': 26, 'H': 27, 'I': 28, 'J': 29, 'K': 30, 'L': 31, 'M': 32, 'N': 33, 'O': 34, 'P': 35, 'Q': 36, 'R': 37, 'S': 38, 'T': 39, 'U': 40, 'V': 41, 'W': 42, 'Y': 43, 'Z': 44, '[': 45, ']': 46, 'a': 47, 'b': 48, 'c': 49, 'd': 50, 'e': 51, 'f': 52, 'g': 53, 'h': 54, 'i': 55, 'j': 56, 'k': 57, 'l': 58, 'm': 59, 'n': 60, 'o': 61, 'p': 62, 'q': 63, 'r': 64, 's': 65, 't': 66, 'u': 67, 'v': 68, 'w': 69, 'x': 70, 'y': 71, 'z': 72, 'é': 73, '–': 74, '‘': 75, '’': 76, '“': 77, '”': 78, '…': 79}\n",
      "Index to Character: -  {0: '\\n', 1: '\\r', 2: ' ', 3: '!', 4: \"'\", 5: '(', 6: ')', 7: '*', 8: ',', 9: '-', 10: '.', 11: '0', 12: '1', 13: '2', 14: '3', 15: '4', 16: '6', 17: '8', 18: ':', 19: '?', 20: 'A', 21: 'B', 22: 'C', 23: 'D', 24: 'E', 25: 'F', 26: 'G', 27: 'H', 28: 'I', 29: 'J', 30: 'K', 31: 'L', 32: 'M', 33: 'N', 34: 'O', 35: 'P', 36: 'Q', 37: 'R', 38: 'S', 39: 'T', 40: 'U', 41: 'V', 42: 'W', 43: 'Y', 44: 'Z', 45: '[', 46: ']', 47: 'a', 48: 'b', 49: 'c', 50: 'd', 51: 'e', 52: 'f', 53: 'g', 54: 'h', 55: 'i', 56: 'j', 57: 'k', 58: 'l', 59: 'm', 60: 'n', 61: 'o', 62: 'p', 63: 'q', 64: 'r', 65: 's', 66: 't', 67: 'u', 68: 'v', 69: 'w', 70: 'x', 71: 'y', 72: 'z', 73: 'é', 74: '–', 75: '‘', 76: '’', 77: '“', 78: '”', 79: '…'}\n"
     ]
    }
   ],
   "source": [
    "print('Character to Index: - ', char_index)\n",
    "print('Index to Character: - ', index_char)"
   ]
  }
 ],
 "metadata": {
  "kernelspec": {
   "display_name": "Python 3",
   "language": "python",
   "name": "python3"
  },
  "language_info": {
   "codemirror_mode": {
    "name": "ipython",
    "version": 3
   },
   "file_extension": ".py",
   "mimetype": "text/x-python",
   "name": "python",
   "nbconvert_exporter": "python",
   "pygments_lexer": "ipython3",
   "version": "3.6.5"
  }
 },
 "nbformat": 4,
 "nbformat_minor": 2
}
